{
  "nbformat": 4,
  "nbformat_minor": 0,
  "metadata": {
    "colab": {
      "name": "MLP_in_Python.ipynb",
      "provenance": [],
      "collapsed_sections": []
    },
    "kernelspec": {
      "name": "python3",
      "display_name": "Python 3"
    },
    "language_info": {
      "name": "python"
    }
  },
  "cells": [
    {
      "cell_type": "code",
      "source": [
        "import numpy as np\n",
        "import tensorflow as tf"
      ],
      "metadata": {
        "id": "kkICszKvt4Z2"
      },
      "execution_count": 26,
      "outputs": []
    },
    {
      "cell_type": "code",
      "source": [
        "from sklearn.datasets import load_digits\n",
        "digits = load_digits()"
      ],
      "metadata": {
        "id": "HDGWQRq488pa"
      },
      "execution_count": 27,
      "outputs": []
    },
    {
      "cell_type": "code",
      "source": [
        "# scale dataset to [0, 1] - min-max scaling\n",
        "digits_scaled = digits['data'].astype('f4') / np.max(digits['data'])\n",
        "np.min (digits_scaled), np.max (digits_scaled)"
      ],
      "metadata": {
        "colab": {
          "base_uri": "https://localhost:8080/"
        },
        "id": "vrvyrxeC9JHL",
        "outputId": "d76649fb-b639-4670-f319-8fd6a693ed1d"
      },
      "execution_count": 28,
      "outputs": [
        {
          "output_type": "execute_result",
          "data": {
            "text/plain": [
              "(0.0, 1.0)"
            ]
          },
          "metadata": {},
          "execution_count": 28
        }
      ]
    },
    {
      "cell_type": "code",
      "source": [
        "# split dataset into train, validation, test set\n",
        "# take out 20% of each target class for test\n",
        "data = []\n",
        "idx_test = []\n",
        "for i in range (digits['target_names'].shape[0]):\n",
        "    i_idx = np.where (digits['target'].reshape (-1, 1) == i)[0]\n",
        "    rnd_i_idx = np.random.choice(i_idx, int (np.floor (len (i_idx)*0.2)), replace = False)\n",
        "    digits_Xy = np.concatenate((digits_scaled[rnd_i_idx], digits['target'][rnd_i_idx].reshape (-1, 1)), axis = 1)\n",
        "    data.append (digits_Xy)\n",
        "    idx_test.append (rnd_i_idx)\n",
        "digits_Xy_test = np.vstack (data)\n",
        "digits_X_test = digits_Xy_test[:, :64]\n",
        "digits_y_test = digits_Xy_test[:, 64].astype ('i4')\n",
        "# delete the test data from dataset\n",
        "mask = np.ones (digits_scaled.shape[0], dtype = bool)\n",
        "mask[np.hstack (idx_test)] = False\n",
        "digits_X = digits_scaled[mask]\n",
        "digits_y = digits['target'][mask]\n",
        "# split remaining dataset into train and validation set\n",
        "from sklearn.model_selection import train_test_split\n",
        "digits_X_train, digits_X_val, digits_y_train, digits_y_val = train_test_split(digits_X, digits_y, test_size = 0.2, shuffle = True, random_state = 42)"
      ],
      "metadata": {
        "id": "XjG1RQiWTtuO"
      },
      "execution_count": 29,
      "outputs": []
    },
    {
      "cell_type": "code",
      "source": [
        "print('train set:', digits_X_train.shape, digits_y_train.shape)\n",
        "print('val set:', digits_X_val.shape, digits_y_val.shape)\n",
        "print('test set:', digits_X_test.shape, digits_y_test.shape)"
      ],
      "metadata": {
        "colab": {
          "base_uri": "https://localhost:8080/"
        },
        "id": "uR6J8bu-9f9s",
        "outputId": "747d0411-3ba1-4429-f7ff-d3d39d26d1e5"
      },
      "execution_count": 30,
      "outputs": [
        {
          "output_type": "stream",
          "name": "stdout",
          "text": [
            "train set: (1153, 64) (1153,)\n",
            "val set: (289, 64) (289,)\n",
            "test set: (355, 64) (355,)\n"
          ]
        }
      ]
    },
    {
      "cell_type": "code",
      "source": [
        "import tensorflow as tf\n",
        "def nn_layer(inputs,units,activation_fn=None):\n",
        "  X=inputs\n",
        "  r = 2/np.sqrt(units)\n",
        "  w_init = tf.random.uniform (shape = [int (X.get_shape()[1]), units], minval = -1.*r, maxval = 1.*r)\n",
        "  W = tf.Variable(\n",
        "      initial_value = w_init,\n",
        "      name = 'weights'\n",
        "      )\n",
        "  # b, shape (u, 1)\n",
        "  b = tf.Variable(\n",
        "      initial_value = tf.zeros (shape = [units]),\n",
        "      name = 'bias'\n",
        "      )\n",
        "  # Z = X * W + b with shape (k, u)\n",
        "  Z = tf.matmul (X, W) + b\n",
        "  # H = activation (Z)\n",
        "  if activation_fn:\n",
        "    return activation_fn(Z)\n",
        "  else:\n",
        "    return Z"
      ],
      "metadata": {
        "id": "hLFLNvlxTw4Q"
      },
      "execution_count": 31,
      "outputs": []
    },
    {
      "cell_type": "code",
      "source": [
        "# construction phase\n",
        "n_inputs = 8*8\n",
        "n_hidden1 = 256\n",
        "n_hidden2 = 128\n",
        "n_outputs = 10\n",
        "import tensorflow.compat.v1 as tf\n",
        "tf.disable_v2_behavior()\n",
        "tf.compat.v1.reset_default_graph ()\n",
        "tf.compat.v1.disable_eager_execution()\n",
        "\n",
        "X = tf.compat.v1.placeholder(\n",
        "    dtype = tf.float32,\n",
        "    shape = (None, n_inputs),\n",
        "    name = 'X'\n",
        ")\n",
        "y = tf.compat.v1.placeholder (\n",
        "    dtype = tf.int32,\n",
        "    shape = (None),\n",
        "    name = 'y'\n",
        ")\n",
        "fc1 = nn_layer(\n",
        "    inputs = X,\n",
        "    units = n_hidden1,\n",
        "    activation_fn = tf.nn.relu\n",
        ")\n",
        "fc2 = nn_layer(\n",
        "    inputs = fc1,\n",
        "    units = n_hidden2,\n",
        "    activation_fn = tf.nn.relu\n",
        ")\n",
        "logits = nn_layer (\n",
        "    inputs = fc2,\n",
        "    units = n_outputs,\n",
        "    activation_fn = None\n",
        ")\n",
        "with tf.name_scope ('loss'): # cost function\n",
        "    # sparse_softmax_cross_entropy_with_logits includes softmax activation function\n",
        "    xentropy = tf.nn.sparse_softmax_cross_entropy_with_logits (\n",
        "        labels = y,\n",
        "        logits = logits\n",
        "    )\n",
        "    loss = tf.reduce_mean (xentropy, name = 'loss')\n",
        "LR = 0.01\n",
        "with tf.name_scope ('train'):\n",
        "    optimizer = tf.train.GradientDescentOptimizer (learning_rate = LR)\n",
        "    training_op = optimizer.minimize (loss)\n",
        "with tf.name_scope ('eval'):\n",
        "    correct = tf.nn.in_top_k (\n",
        "        predictions = logits,\n",
        "        targets = y,\n",
        "        k = 1\n",
        "    )\n",
        "    accuracy = tf.reduce_mean (tf.cast (correct, tf.float32))\n",
        "init = tf.global_variables_initializer ()\n",
        "saver = tf.train.Saver ()"
      ],
      "metadata": {
        "id": "2MCL1ZzM683d"
      },
      "execution_count": 32,
      "outputs": []
    },
    {
      "cell_type": "code",
      "source": [
        "# execution phase\n",
        "N_EPOCHS = 20\n",
        "BATCH_SIZE = 20\n",
        "n_batches = int (np.ceil(digits_X_train.shape[0] / BATCH_SIZE))\n",
        "with tf.Session () as sess:\n",
        "    init.run ()\n",
        "    for epoch in range (1, N_EPOCHS+1):\n",
        "        for it in range (n_batches):\n",
        "            feed_dict = {\n",
        "                X : digits_X_train[it*BATCH_SIZE:(it+1)*BATCH_SIZE, :],\n",
        "                y : digits_y_train[it*BATCH_SIZE:(it+1)*BATCH_SIZE]\n",
        "            }\n",
        "            sess.run (training_op, feed_dict = feed_dict)\n",
        "        acc_train = accuracy.eval (feed_dict = feed_dict)\n",
        "        acc_val = accuracy.eval (feed_dict = {X : digits_X_val, y : digits_y_val})\n",
        "        print (epoch, ', train acc:', acc_train, ', val acc:', acc_val)\n",
        "    save_path = saver.save (sess, './digits_final.ckpt')"
      ],
      "metadata": {
        "colab": {
          "base_uri": "https://localhost:8080/"
        },
        "id": "zUgkIYsF8tPD",
        "outputId": "a71889d5-acb9-4f5e-8442-9ac6fbb56af7"
      },
      "execution_count": 33,
      "outputs": [
        {
          "output_type": "stream",
          "name": "stdout",
          "text": [
            "1 , train acc: 0.84615386 , val acc: 0.7750865\n",
            "2 , train acc: 0.9230769 , val acc: 0.8512111\n",
            "3 , train acc: 0.9230769 , val acc: 0.89619374\n",
            "4 , train acc: 0.9230769 , val acc: 0.90657437\n",
            "5 , train acc: 1.0 , val acc: 0.9134948\n",
            "6 , train acc: 1.0 , val acc: 0.9273356\n",
            "7 , train acc: 1.0 , val acc: 0.93079585\n",
            "8 , train acc: 1.0 , val acc: 0.93771625\n",
            "9 , train acc: 1.0 , val acc: 0.93771625\n",
            "10 , train acc: 1.0 , val acc: 0.93771625\n",
            "11 , train acc: 1.0 , val acc: 0.93771625\n",
            "12 , train acc: 1.0 , val acc: 0.9411765\n",
            "13 , train acc: 1.0 , val acc: 0.9411765\n",
            "14 , train acc: 1.0 , val acc: 0.9411765\n",
            "15 , train acc: 1.0 , val acc: 0.9411765\n",
            "16 , train acc: 1.0 , val acc: 0.9411765\n",
            "17 , train acc: 1.0 , val acc: 0.9411765\n",
            "18 , train acc: 1.0 , val acc: 0.9411765\n",
            "19 , train acc: 1.0 , val acc: 0.9411765\n",
            "20 , train acc: 1.0 , val acc: 0.9446367\n"
          ]
        }
      ]
    },
    {
      "cell_type": "code",
      "source": [
        "# predictions\n",
        "with tf.Session() as sess:\n",
        "    saver.restore (sess, save_path)\n",
        "    Z = logits.eval (feed_dict = {X : digits_X_test})\n",
        "    y_pred_distr = tf.nn.softmax (Z).eval ()\n",
        "    y_pred = np.argmax (y_pred_distr, axis = 1)\n",
        "    acc_test = accuracy.eval (feed_dict = {X : digits_X_test, y : digits_y_test})"
      ],
      "metadata": {
        "colab": {
          "base_uri": "https://localhost:8080/"
        },
        "id": "llXtSdAx99fm",
        "outputId": "e1c59b6c-4e87-440b-adc6-b21c852be6a0"
      },
      "execution_count": 34,
      "outputs": [
        {
          "output_type": "stream",
          "name": "stdout",
          "text": [
            "INFO:tensorflow:Restoring parameters from ./digits_final.ckpt\n"
          ]
        }
      ]
    },
    {
      "cell_type": "code",
      "source": [
        "acc_test"
      ],
      "metadata": {
        "colab": {
          "base_uri": "https://localhost:8080/"
        },
        "id": "BiO2d-ii-BBZ",
        "outputId": "a4753d08-d86d-43f5-dd6d-02b5793aa943"
      },
      "execution_count": 35,
      "outputs": [
        {
          "output_type": "execute_result",
          "data": {
            "text/plain": [
              "0.94929576"
            ]
          },
          "metadata": {},
          "execution_count": 35
        }
      ]
    },
    {
      "cell_type": "code",
      "source": [
        ""
      ],
      "metadata": {
        "id": "fHrw21g7-DbY"
      },
      "execution_count": null,
      "outputs": []
    }
  ]
}